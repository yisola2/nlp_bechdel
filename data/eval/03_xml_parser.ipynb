{
 "cells": [
  {
   "cell_type": "markdown",
   "id": "e7313a81",
   "metadata": {},
   "source": [
    "# Ground Truth XML Parser\n",
    "\n",
    "This notebook parses XML files containing character information (name, gender, aliases) for novels and extracts the ground truth data into a Pandas DataFrame. This structured data can then be used for evaluating the NLP pipeline."
   ]
  },
  {
   "cell_type": "code",
   "execution_count": 1,
   "id": "5e2da3c8",
   "metadata": {},
   "outputs": [
    {
     "name": "stdout",
     "output_type": "stream",
     "text": [
      "Libraries imported.\n"
     ]
    }
   ],
   "source": [
    "# Cell 1: Import Libraries\n",
    "import xml.etree.ElementTree as ET\n",
    "import pandas as pd\n",
    "import os\n",
    "\n",
    "print(\"Libraries imported.\")"
   ]
  },
  {
   "cell_type": "code",
   "execution_count": 7,
   "id": "b9ad2f4a",
   "metadata": {},
   "outputs": [
    {
     "name": "stdout",
     "output_type": "stream",
     "text": [
      "Configuration set.\n",
      "Looking for XML files in: \n",
      "Files to parse: ['emma_full.xml', 'steppe_full.xml', 'pp_full.xml']\n",
      "Output CSV: data/eval/ground_truth_characters.csv\n"
     ]
    }
   ],
   "source": [
    "# Cell 2: Configuration\n",
    "# --- Input Files ---\n",
    "# Directory containing the ground truth XML files\n",
    "GROUND_TRUTH_DIR = \"\" \n",
    "\n",
    "# List of XML files to parse\n",
    "XML_FILES = [\n",
    "    \"emma_full.xml\",\n",
    "    \"steppe_full.xml\",\n",
    "    \"pp_full.xml\"\n",
    "    \n",
    "]\n",
    "\n",
    "# --- Output File ---\n",
    "# Where to save the parsed ground truth data\n",
    "OUTPUT_CSV_PATH = \"data/eval/ground_truth_characters.csv\"\n",
    "\n",
    "# --- Constants ---\n",
    "# Define standardized gender labels \n",
    "GENDER_FEMALE = \"Female\"\n",
    "GENDER_MALE = \"Male\"\n",
    "GENDER_UNKNOWN = \"Unknown\"\n",
    "\n",
    "# Define gender labels expected in the XML (lowercase)\n",
    "XML_GENDER_FEMALE = \"female\"\n",
    "XML_GENDER_MALE = \"male\"\n",
    "# List labels in XML to be treated as Unknown\n",
    "XML_GENDER_OTHER = [\"none\", \"unknown\", \"\", None] \n",
    "\n",
    "print(\"Configuration set.\")\n",
    "print(f\"Looking for XML files in: {GROUND_TRUTH_DIR}\")\n",
    "print(f\"Files to parse: {XML_FILES}\")\n",
    "print(f\"Output CSV: {OUTPUT_CSV_PATH}\")"
   ]
  },
  {
   "cell_type": "code",
   "execution_count": 3,
   "id": "d78fe688",
   "metadata": {},
   "outputs": [
    {
     "name": "stdout",
     "output_type": "stream",
     "text": [
      "XML parsing function defined.\n"
     ]
    }
   ],
   "source": [
    "# Cell 3: XML Parsing Function\n",
    "\n",
    "def parse_ground_truth_xml(xml_path):\n",
    "    \"\"\"Parses a single XML file to extract character names and genders.\"\"\"\n",
    "    characters = []\n",
    "    novel_name = os.path.splitext(os.path.basename(xml_path))[0].replace('_full', '')\n",
    "    \n",
    "    try:\n",
    "        tree = ET.parse(xml_path)\n",
    "        root = tree.getroot()\n",
    "        # Find the 'characters' element\n",
    "        characters_element = root.find('characters')\n",
    "        if characters_element is None:\n",
    "            print(f\"Warning: <characters> tag not found in {xml_path}\")\n",
    "            return [] # Return empty list if structure is wrong\n",
    "\n",
    "        for char_element in characters_element.findall('character'):\n",
    "            name = char_element.get('name')\n",
    "            gender = char_element.get('gender') # Might be None\n",
    "            aliases = char_element.get('aliases', '') # Get aliases, default to empty string\n",
    "\n",
    "            if not name: \n",
    "                continue # Skip characters without a name\n",
    "\n",
    "            # Standardize gender\n",
    "            standard_gender = GENDER_UNKNOWN\n",
    "            if gender:\n",
    "                gender_lower = gender.lower()\n",
    "                if gender_lower == XML_GENDER_FEMALE:\n",
    "                    standard_gender = GENDER_FEMALE\n",
    "                elif gender_lower == XML_GENDER_MALE:\n",
    "                    standard_gender = GENDER_MALE\n",
    "                # Note: XML_GENDER_OTHER handles none/unknown/missing in the list comprehension below\n",
    "            \n",
    "            \n",
    "            characters.append({\n",
    "                'novel': novel_name,\n",
    "                'canonical_key': name, \n",
    "                'true_gender': standard_gender,\n",
    "                'aliases': aliases\n",
    "            })\n",
    "\n",
    "        print(f\"Successfully parsed {len(characters)} characters from {xml_path}\")\n",
    "        return characters\n",
    "\n",
    "    except ET.ParseError as e:\n",
    "        print(f\"Error parsing XML file {xml_path}: {e}\")\n",
    "        return []\n",
    "    except FileNotFoundError:\n",
    "        print(f\"Error: Ground truth file not found at {xml_path}\")\n",
    "        return []\n",
    "    except Exception as e:\n",
    "        print(f\"An unexpected error occurred during parsing {xml_path}: {e}\")\n",
    "        return []\n",
    "\n",
    "print(\"XML parsing function defined.\")"
   ]
  },
  {
   "cell_type": "code",
   "execution_count": 8,
   "id": "93e13bae",
   "metadata": {},
   "outputs": [
    {
     "name": "stdout",
     "output_type": "stream",
     "text": [
      "Successfully parsed 49 characters from emma_full.xml\n",
      "Successfully parsed 65 characters from steppe_full.xml\n",
      "Successfully parsed 32 characters from pp_full.xml\n",
      "\n",
      "Combined ground truth data from 3 file(s). Total characters: 146\n",
      "\n",
      "Combined Ground Truth DataFrame Info:\n",
      "<class 'pandas.core.frame.DataFrame'>\n",
      "RangeIndex: 146 entries, 0 to 145\n",
      "Data columns (total 4 columns):\n",
      " #   Column         Non-Null Count  Dtype \n",
      "---  ------         --------------  ----- \n",
      " 0   novel          146 non-null    object\n",
      " 1   canonical_key  146 non-null    object\n",
      " 2   true_gender    146 non-null    object\n",
      " 3   aliases        146 non-null    object\n",
      "dtypes: object(4)\n",
      "memory usage: 4.7+ KB\n",
      "\n",
      "Combined Ground Truth Head:\n",
      "  novel        canonical_key true_gender  \\\n",
      "0  emma       Emma_Woodhouse      Female   \n",
      "1  emma   Isabella_Woodhouse      Female   \n",
      "2  emma    Mr_John_Knightley        Male   \n",
      "3  emma          Miss_Taylor      Female   \n",
      "4  emma  Mr_George_Knightley        Male   \n",
      "\n",
      "                                             aliases  \n",
      "0                 Emma Woodhouse;Emma;Miss Woodhouse  \n",
      "1  Isabella Woodhouse;Isabella;Mrs. John Knightle...  \n",
      "2  Mr. John Knightley;John Knightley;Mr. Knightle...  \n",
      "3                Miss Taylor;Mrs. Weston;Anne Taylor  \n",
      "4                        Mr. George Knightley;George  \n",
      "\n",
      "Combined Ground Truth Gender Distribution:\n",
      "true_gender\n",
      "Unknown    63\n",
      "Male       43\n",
      "Female     40\n",
      "Name: count, dtype: int64\n"
     ]
    }
   ],
   "source": [
    "# Cell 4: Parse All Specified XML Files and Combine\n",
    "\n",
    "all_ground_truth_chars = []\n",
    "for xml_filename in XML_FILES:\n",
    "    full_xml_path = os.path.join(GROUND_TRUTH_DIR, xml_filename)\n",
    "    parsed_chars = parse_ground_truth_xml(full_xml_path)\n",
    "    all_ground_truth_chars.extend(parsed_chars)\n",
    "\n",
    "if not all_ground_truth_chars:\n",
    "    print(\"\\nNo characters were parsed from any XML file. Cannot create DataFrame.\")\n",
    "    ground_truth_df = pd.DataFrame()\n",
    "else:\n",
    "    ground_truth_df = pd.DataFrame(all_ground_truth_chars)\n",
    "    print(f\"\\nCombined ground truth data from {len(XML_FILES)} file(s). Total characters: {len(ground_truth_df)}\")\n",
    "    \n",
    "    # Display info about the combined DataFrame\n",
    "    print(\"\\nCombined Ground Truth DataFrame Info:\")\n",
    "    ground_truth_df.info()\n",
    "    print(\"\\nCombined Ground Truth Head:\")\n",
    "    print(ground_truth_df.head())\n",
    "    print(\"\\nCombined Ground Truth Gender Distribution:\")\n",
    "    print(ground_truth_df['true_gender'].value_counts())"
   ]
  },
  {
   "cell_type": "code",
   "execution_count": 9,
   "id": "0f80956a",
   "metadata": {},
   "outputs": [
    {
     "name": "stdout",
     "output_type": "stream",
     "text": [
      "\n",
      "Successfully saved ground truth data to: data/eval/ground_truth_characters.csv\n"
     ]
    }
   ],
   "source": [
    "# Cell 5: Save Parsed Data to CSV\n",
    "\n",
    "if not ground_truth_df.empty:\n",
    "    try:\n",
    "        \n",
    "        os.makedirs(os.path.dirname(OUTPUT_CSV_PATH), exist_ok=True)\n",
    "        \n",
    "        # Save the DataFrame to CSV\n",
    "        ground_truth_df.to_csv(OUTPUT_CSV_PATH, index=False, encoding='utf-8')\n",
    "        print(f\"\\nSuccessfully saved ground truth data to: {OUTPUT_CSV_PATH}\")\n",
    "    except Exception as e:\n",
    "        print(f\"\\nError saving ground truth data to CSV: {e}\")\n",
    "else:\n",
    "    print(\"\\nSkipping saving to CSV as the DataFrame is empty.\")"
   ]
  },
  {
   "cell_type": "markdown",
   "id": "d1d371b6",
   "metadata": {},
   "source": [
    "--- \n",
    "**Next Steps:**\n",
    "\n",
    "The file `ground_truth_characters.csv` now contains the structured ground truth data.\n",
    "Now I can CSV file in my main evaluation notebook (`04_evaluations.ipynb`) to compare against your pipeline's results.\n",
    "---"
   ]
  }
 ],
 "metadata": {
  "kernelspec": {
   "display_name": "nlp_env",
   "language": "python",
   "name": "python3"
  },
  "language_info": {
   "codemirror_mode": {
    "name": "ipython",
    "version": 3
   },
   "file_extension": ".py",
   "mimetype": "text/x-python",
   "name": "python",
   "nbconvert_exporter": "python",
   "pygments_lexer": "ipython3",
   "version": "3.12.9"
  }
 },
 "nbformat": 4,
 "nbformat_minor": 5
}
